{
 "cells": [
  {
   "cell_type": "markdown",
   "id": "40d6e9f4",
   "metadata": {},
   "source": [
    "# Plan, strategize, and automate data backup on AWS with AI Agents on Amazon Bedrock\n",
    "\n",
    "[AWS Backup](https://aws.amazon.com/backup/) is a fully managed backup service centralizing and automating the backup of data across AWS services. AWS Backup provides an orchestration layer that integrates Amazon CloudWatch, AWS CloudTrail, AWS Identity and Access Management (IAM), AWS Organizations, and other services. This centralized, AWS Cloud native solution provides global backup capabilities that can help you achieve your disaster recovery and compliance requirements. Using AWS Backup, you can centrally configure backup policies and monitor backup activity for AWS resources.\n",
    "\n",
    "Some AWS services like [Amazon EC2](https://aws.amazon.com/ec2/), [Amazon S3](https://aws.amazon.com/s3/), [Amazon RDS](https://aws.amazon.com/rds/) etc., will let you configure your data backups natively in those services i.e. outside of AWS Backup.\n",
    "\n",
    "In all these cases, when creating a data backup strategy, you will need to understand the concepts, best practices, and architecture principles behind data backup and recovery. You would want to make sure all your resources are covered. While these can be challenging, configuring backups either within AWS Backup or natively in other services for your backup objectives requires knowledge of AWS Backup or other service APIs, and how to invoke one or more of them in a sequence based on your requirements. AI agents can help with all these.\n",
    "\n",
    "This notebook will walk you through the process of using [Amazon Bedrock Agents](https://aws.amazon.com/bedrock/agents/) along with the [Large Language Models (LLMs)](https://docs.aws.amazon.com/bedrock/latest/userguide/models-supported.html) on Amazon Bedrock to provide an easy-to-use natural language interface to strategize, plan, and execute your data backup objectives using [AWS Backup](https://aws.amazon.com/backup/), [Amazon EC2](https://aws.amazon.com/ec2/), [Amazon S3](https://aws.amazon.com/s3/), and [Amazon RDS](https://aws.amazon.com/rds/).\n",
    "\n",
    "[Amazon Bedrock](https://aws.amazon.com/bedrock/) is a fully managed service that offers a choice of high-performing Foundation Models (FMs) from leading AI companies accessible through a single API, along with a broad set of capabilities you need to build generative AI applications, simplifying development while maintaining privacy and security.\n",
    "\n",
    "[Large Language Models (LLMs)](https://en.wikipedia.org/wiki/Large_language_model) are a type of Foundation Model that can take natural langauge as input, with the ability to process and understand it, and produce natural language as the output. LLMs can also can perform tasks like classification, summarization, simplification, entity recognition, etc.\n",
    "\n",
    "In the process of working through this notebook, you will learn how to setup and interact with Amazon Bedrock Agents, Knowledge Bases, setup the client environment, configure security permissions, and use prompt templates. You will also learn how to use Amazon Bedrock's [Converse API](https://docs.aws.amazon.com/bedrock/latest/APIReference/API_runtime_Converse.html) to consistently interact with multiple supported LLMs."
   ]
  },
  {
   "cell_type": "markdown",
   "id": "e0111293",
   "metadata": {},
   "source": [
    "<div class=\"alert alert-block alert-info\">\n",
    "<b>Note:</b>\n",
    "    <ul>\n",
    "        <li>This notebook should only be run from within an <a href=\"https://docs.aws.amazon.com/sagemaker/latest/dg/nbi.html\">Amazon SageMaker Notebook instance</a> or within an <a href=\"https://docs.aws.amazon.com/sagemaker/latest/dg/studio-updated.html\">Amazon SageMaker Studio Notebook</a>.</li>\n",
    "        <li>At the time of writing this notebook, Amazon Bedrock was only available in <a href=\"https://docs.aws.amazon.com/bedrock/latest/userguide/bedrock-regions.html\">these supported AWS Regions</a>. If you are running this notebook from any other AWS Region, then you have to change the Amazon Bedrock Agent client's region and/or endpoint URL parameters to one of those supported AWS Regions that has <b>Anthropic Claude 3.5 Haiku v1, Anthropic Claude 3.5 Sonnet v2 / 3.7 Sonnet v1, and Amazon Titan Text Embeddings v2</b>. If available, you can use <a href=\"https://docs.aws.amazon.com/bedrock/latest/userguide/cross-region-inference.html\">cross-region inference</a>. Follow the guidance in the <i>Organize imports</i> section of this notebook.</li>\n",
    "        <li>This notebook is recommended to be run with a minimum instance size of <i>ml.t3.medium</i> and\n",
    "            <ul>\n",
    "                <li>With <i>Amazon Linux 2, Jupyter Lab 4</i> as the platform identifier on an Amazon SageMaker Notebook instance.</li>\n",
    "                <li> (or)\n",
    "                <li>With <i>Data Science 3.0</i> as the image on an Amazon SageMaker Studio Notebook.</li>\n",
    "            <ul>\n",
    "        </li>\n",
    "        <li>At the time of this writing, the most relevant latest version of the Kernel for running this notebook,\n",
    "            <ul>\n",
    "                <li>On an Amazon SageMaker Notebook instance was <i>conda_python3</i></li>\n",
    "                <li>On an Amazon SageMaker Studio Notebook was <i>Python 3</i></li>\n",
    "            </ul>\n",
    "        </li>\n",
    "    </ul>\n",
    "</div>"
   ]
  },
  {
   "cell_type": "markdown",
   "id": "842cd96b-32b9-48f0-b0e9-99c8e7d4223f",
   "metadata": {},
   "source": [
    "## Architecture\n",
    "\n",
    "<center><img src=\"images/flow_architecture.png\"/></center>\n",
    "\n",
    "**Overall Data flow:**\n",
    "\n",
    "0. Ingest the information about architecture, and best practices:\n",
    "    1. **(Step 0a):** Download the information from HTTP/S URLs or start the ingestion of the files from an Amazon S3 bucket.\n",
    "    2. **(Step 0b):** Ingest into a Knowledge Base (KB) built on Amazon Bedrock Knowledge Bases.\n",
    "    3. **(Step 0c):** During the ingestion process, the data is chunked using a fixed-size chunking strategy, and vectorized by calling an Embeddings model (Amazon Titan Text Embeddings v2).\n",
    "    4. **(Step 0d):** The vectorized data is stored in the KB along with the required metadata like the source information. This KB uses an Amazon OpenSearch Serverless (AOSS) based vector store.\n",
    "1. **(Step 1):** The user sends a message to the chat assistant with what they want to accomplish.\n",
    "2. **(Step 2):** The chat assistant provides the UI for the user. It receives the user's message and sends it to the supervisor agent (built on Amazon Bedrock Agents).\n",
    "3. Supervisor agent (built on Amazon Bedrock Agents):\n",
    "    1. **(Step 3a):** The supervisor agent uses LLM 2 (Anthropic Claude 3.5 Sonnet v2 / 3.7 Sonnet v1) to determine the appropriate sub-supervisor agent based on the service involved (AWS Backup / Amazon EC2 / Amazon S3 / Amazon RDS) or the Knowledge agent to process the user's request. Sometimes multiple agents will be invoked based on the user's request. In such cases, the responses from various sub-agents will be consolidated.\n",
    "    2. **(Step 3b):** The supervisor agent routes the request to the service-specific sub-supervisor agent as determined in the previous step.\n",
    "    3. **(Step 3c):** The supervisor agent routes the request to the Knowledge agent as determined in the previous step.\n",
    "    4. The response or re-prompt from the sub-supervisor agent is sent back to the user through the chat assistant.\n",
    "4. Sub-supervisor agent (built on Amazon Bedrock Agents):\n",
    "    1. **(Step 4a):** The sub-supervisor agent, which is specific to the service (AWS Backup / Amazon EC2 / Amazon S3 / Amazon RDS), uses LLM 1 (Anthropic Claude 3.5 Haiku v1) to determine whether the user's request pertains to a planning or execution operation and routes it to the appropriate sub-agent. **Note:** Except for AWS Backup, the planner and executor sub-agents for other services are contained within the sub-supervisor agent.\n",
    "    2. **(Step 4b):** Planner sub-agent (built on Amazon Bedrock Agents):\n",
    "        1. **(Step P1):** This agent uses LLM 2 (Anthropic Claude 3.5 Sonnet v2 / 3.7 Sonnet v1) to break down the user request into tasks. It will also determine if an AWS Backup / Amazon EC2 / Amazon S3 / Amazon RDS operation like describe, get, or list needs to be performed or not.\n",
    "        2. **(Step P2):** If a describe, get, or list operation is required, the agent will invoke an action group which is associated with an AWS Lambda function. This function will receive the original message from the user, along with the boto3 JSON API for the appropriate operation. *Refer to the next section for the data flow within the Lambda function.*\n",
    "        3. Finally, it will consolidate all this information and send it back to the sub-supervisor agent. If any additional info is required, this agent will re-prompt the user through the sub-supervisor agent.\n",
    "    3. **(Step 4c):** Executor sub-agent (built on Amazon Bedrock Agents):\n",
    "        1. **(Step E1):** This agent uses LLM 2 (Anthropic Claude 3.5 Sonnet v2 / 3.7 Sonnet v1) to break down the user request into tasks. It will also determine if an AWS Backup / Amazon EC2 / Amazon S3 / Amazon RDS operation like create, update, cancel, or delete needs to be performed or not.\n",
    "        2. **(Step E2):** If a create, update, cancel, or delete operation is required, the agent will invoke an action group which is associated with an AWS Lambda function. This function will receive the original message from the user, along with the boto3 JSON API for the appropriate AWS Backup / Amazon EC2 / Amazon S3 / Amazon RDS operation. *Refer to the next section for the data flow within the Lambda function.*\n",
    "        3. Finally, it will consolidate all this information and send it back to the sub-supervisor agent. If any additional info is required, this agent will re-prompt the user through the sub-supervisor agent.\n",
    "5. Knowledge agent (built on Amazon Bedrock Agents):\n",
    "    1. **(Step K1):** The Knowledge agent uses LLM 2 (Anthropic Claude 3.5 Sonnet v2 / 3.7 Sonnet v1) to determine if a search and retrieve operation against the configured Knowledge Base (KB) is required or not.\n",
    "    2. **(Step K2):** If a KB lookup is required, it is performed. This KB will contain all the required information about data backup and restore, disaster recovery (DR), data protection, and data compliance.\n",
    "    3. Finally, it will process the information retrieved from the KB and send it back to the supervisor agent. If any additional info is required, this agent will re-prompt the user through the supervisor agent.\n",
    "\n",
    "**Lambda function data flow:**\n",
    "\n",
    "1. **(Step L1):** The Lambda function, which is specific to the service (AWS Backup / Amazon EC2 / Amazon S3 / Amazon RDS), will perform pre-processing, and will attempt to improve the boto3 JSON API (generated by the agent) by invoking LLM 2 (Anthropic Claude 3.5 Sonnet v2 / 3.7 Sonnet v1). It will then use this JSON to invoke the AWS Backup API **(Step L3)**.\n",
    "2. **(Step L2):** If the API call fails, then, the function will invoke LLM 2 to fix the JSON based on the error message. It will then invoke the AWS Backup API **(Step L3)** with the improved JSON.\n",
    "3. If this call succeeds, then the result will be returned to the sub-agent. If it fails, then, the failure message will be returned to the sub-agent.\n",
    "\n",
    "**Supported AWS Backup operations:**\n",
    "(Note: Mandatory parameters are mentioned in brackets. All other parameters are either auto-generated or optional.)\n",
    "1. Create backup vault\n",
    "2. Create backup plan\n",
    "3. Update backup plan (using plan id and name)\n",
    "4. Create backup selection (using plan id)\n",
    "5. Create legal hold\n",
    "6. List backup vaults (all or using vault-type/tags)\n",
    "7. List protected resources (all or using resource name or backup vault name)\n",
    "8. List backup jobs (all or using resource type)\n",
    "9. List backup plans (all or using tags)\n",
    "10. List backup selections (all or using backup plan id or selection name)\n",
    "11. List legal holds (all or using tags)\n",
    "12. Get backup vault (using vault id/name/arn)\n",
    "13. Get backup plan (using plan id/name)\n",
    "14. Get backup selection (using plan id/name and selection id/name)\n",
    "15. Get legal hold (using id/ARN)\n",
    "16. Delete backup vault (using vault id/name/arn)\n",
    "17. Delete backup plan (using plan id/name)\n",
    "18. Delete backup selection (using plan id/name and selection id)\n",
    "19. Cancel legal hold (using id/ARN)\n",
    "20. List all recovery points (using backup vault name or resource ARN or legal hold id or resource type)\n",
    "\n",
    "**Supported Amazon EC2 operations:**\n",
    "(Note: Mandatory parameters are mentioned in brackets. All other parameters are either auto-generated or optional.)\n",
    "1. List all instances (all or using id/name/tags)\n",
    "2. List all volumes (all or using volume id/name/tags or instance id/name/tags)\n",
    "3. List all snapshots (all or using snapshot id/name/tags or volume id/name/tags or instance id/name/tags)\n",
    "4. Create a snapshot for a volume (using volume id)\n",
    "5. Delete a snapshot (using snapshot id)\n",
    "\n",
    "**Supported Amazon S3 operations:**\n",
    "(Note: Mandatory parameters are mentioned in brackets. All other parameters are either auto-generated or optional.)\n",
    "1. List all buckets (all or using region name and/or tags)\n",
    "2. Get bucket replication info\n",
    "3. Get bucket versioning info\n",
    "4. Get bucket lifecycle config\n",
    "\n",
    "**Supported Amazon RDS operations:**\n",
    "(Note: Mandatory parameters are mentioned in brackets. All other parameters are either auto-generated or optional.)\n",
    "1. List all db clusters (all or using id/name/tags)\n",
    "2. List all db instances (all or using id/name/tags)\n",
    "3. List all db cluster automated backups\n",
    "4. List all db instance automated backups\n",
    "5. Start db instance automated backups replication\n",
    "6. Stop db instance automated backups replication\n",
    "7. Delete db cluster automated backup\n",
    "8. Delete db instance automated backup"
   ]
  },
  {
   "cell_type": "markdown",
   "id": "5dd20cc6-39c3-4d5e-aa86-2a29a3545965",
   "metadata": {},
   "source": [
    "<div class=\"alert alert-block alert-warning\">  \n",
    "    <b>Note:</b> In all the supported operations specified above in this notebook, list and search operations are restricted to the first 100 items. When you perform these operations, there is a possibility that the item you are looking for may be beyond the list of those 100 processed items. So you may not see it in the results. For example, if you run the operation to list all Amazon S3 buckets in a region and if there are more than 100 buckets in that region, then, only the first 100 buckets will be retrieved and processed.\n",
    "</div>"
   ]
  },
  {
   "cell_type": "markdown",
   "id": "29e88d20",
   "metadata": {},
   "source": [
    "## Running this notebook\n",
    "\n",
    "**Table of Contents:**\n",
    "\n",
    "1. [Complete prerequisites](#Complete%20prerequisites)\n",
    "\n",
    "    1. [Check and configure access to the Internet](#Check%20and%20configure%20access%20to%20the%20Internet)\n",
    "\n",
    "    2. [Install required software libraries](#Install%20required%20software%20libraries)\n",
    "    \n",
    "    3. [Configure logging](#Configure%20logging)\n",
    "        \n",
    "        1. [System logs (Optional)](#Configure%20system%20logs%20(Optional))\n",
    "        \n",
    "        2. [Application logs](#Configure%20application%20logs)\n",
    "    \n",
    "    4. [Organize imports](#Organize%20imports)\n",
    "    \n",
    "    5. [Set AWS Region and boto3 config](#Set%20AWS%20Region%20and%20boto3%20config)\n",
    "    \n",
    "    6. [Enable model access in Amazon Bedrock](#Enable%20model%20access%20in%20Amazon%20Bedrock)\n",
    "    \n",
    "    7. [Create common objects](#Create%20common%20objects)\n",
    "    \n",
    "    8. [Check and configure security permissions](#Check%20and%20configure%20security%20permissions)\n",
    "  \n",
    "    9. [Get Bedrock Agent details](#Get%20Bedrock%20Agent%20details)\n",
    "\n",
    " 2. [Ingest into Knowledge Base](#Ingest%20into%20Knowledge%20Base)\n",
    "\n",
    "    1. [Ingest from HTTP/S data source](#Ingest%20from%20HTTP/S%20data%20source)\n",
    "       \n",
    "    2. [Ingest from S3 data source](#Ingest%20from%20S3%20data%20source)\n",
    " \n",
    " 4. [Perform backup actions](#Perform%20backup%20actions)\n",
    "\n",
    "    1. [(Option 1) For chat and single-prompt](#For%20chat%20and%20single-prompt)\n",
    "   \n",
    "    2. [(Option 2) For single-prompt only](#For%20single-prompt%20only)\n",
    " \n",
    " 5. [Cleanup](#Cleanup)\n",
    " \n",
    " 6. [Conclusion](#Conclusion)\n",
    " \n",
    " 7. [Frequently Asked Questions (FAQs)](#FAQs)"
   ]
  },
  {
   "cell_type": "markdown",
   "id": "7a9fb9d3",
   "metadata": {},
   "source": [
    "##  1. Complete prerequisites <a id ='Complete%20prerequisites'> </a>\n",
    "\n",
    "Check and complete the prerequisites."
   ]
  },
  {
   "cell_type": "markdown",
   "id": "1e85c39b",
   "metadata": {},
   "source": [
    "###  A. Check and configure access to the Internet <a id ='Check%20and%20configure%20access%20to%20the%20Internet'> </a>\n",
    "This notebook requires outbound access to the Internet to download the required software updates, to download the required files, and interact with the required AWS services.  You can either provide direct Internet access (default) or provide Internet access through an [Amazon VPC](https://aws.amazon.com/vpc/).  For more information on this, refer [here](https://docs.aws.amazon.com/sagemaker/latest/dg/appendix-notebook-and-internet-access.html)."
   ]
  },
  {
   "cell_type": "markdown",
   "id": "820efd56",
   "metadata": {},
   "source": [
    "### B. Install required software libraries <a id ='Install%20required%20software%20libraries'> </a>\n",
    "This notebook requires the following libraries:\n",
    "* [SageMaker Python SDK version 2.x](https://sagemaker.readthedocs.io/en/stable/v2.html)\n",
    "* [Python 3.10.x](https://www.python.org/downloads/release/python-3100/)\n",
    "* [Boto3](https://boto3.amazonaws.com/v1/documentation/api/latest/index.html)\n",
    "\n",
    "Run the following cell to install the required libraries."
   ]
  },
  {
   "cell_type": "markdown",
   "id": "6bb373af",
   "metadata": {},
   "source": [
    "<div class=\"alert alert-block alert-warning\">  \n",
    "    <b>Note:</b> At the end of the installation, the Kernel will be forcefully restarted immediately. Please wait 10 seconds for the kernel to come back before running the next cell.\n",
    "</div>"
   ]
  },
  {
   "cell_type": "code",
   "execution_count": null,
   "id": "7256d4fc-0361-4cee-a548-d9b7e355824f",
   "metadata": {
    "tags": []
   },
   "outputs": [],
   "source": [
    "!pip install boto3==1.40.0\n",
    "!pip install requests==2.32.4\n",
    "!pip install sagemaker==2.249.0\n",
    "\n",
    "import IPython\n",
    "\n",
    "IPython.Application.instance().kernel.do_shutdown(True)"
   ]
  },
  {
   "cell_type": "markdown",
   "id": "93b3c44f",
   "metadata": {},
   "source": [
    "### C. Configure logging <a id ='Configure%20logging'> </a>"
   ]
  },
  {
   "cell_type": "markdown",
   "id": "4fd5ee37",
   "metadata": {},
   "source": [
    "####  a. System logs (Optional) <a id='Configure%20system%20logs%20(Optional)'></a>\n",
    "\n",
    "System logs refers to the logs generated by the notebook's interactions with the underlying notebook instance. Some examples of these are the logs generated when loading or saving the notebook.\n",
    "\n",
    "These logs are automatically setup when the notebook instance is launched.\n",
    "\n",
    "These logs can be accessed through the [Amazon CloudWatch Logs](https://docs.aws.amazon.com/AmazonCloudWatch/latest/logs/WhatIsCloudWatchLogs.html) console in the same AWS Region where this notebook is running.\n",
    "* When running this notebook in an Amazon SageMaker Notebook instance, navigate to the following location,\n",
    "    * <i>CloudWatch > Log groups > /aws/sagemaker/NotebookInstances > {notebook-instance-name}/jupyter.log</i>\n",
    "* When running this notebook in an Amazon SageMaker Studio Notebook, navigate to the following locations,\n",
    "    * <i>CloudWatch > Log groups > /aws/sagemaker/studio > {sagmaker-domain-name}/{user-name}/KernelGateway/{notebook-instance-name}</i>\n",
    "    * <i>CloudWatch > Log groups > /aws/sagemaker/studio > {sagmaker-domain-name}/{user-name}/JupyterServer/default</i>\n",
    "\n",
    "If you want to find out the name of the underlying instance where this notebook is running, uncomment the following code cell and run it."
   ]
  },
  {
   "cell_type": "code",
   "execution_count": null,
   "id": "6c99c519",
   "metadata": {},
   "outputs": [],
   "source": [
    "'''\n",
    "import json\n",
    "\n",
    "notebook_name = ''\n",
    "resource_metadata_path = '/opt/ml/metadata/resource-metadata.json'\n",
    "with open(resource_metadata_path, 'r') as metadata:\n",
    "    notebook_name = (json.load(metadata))['ResourceName']\n",
    "print(\"Notebook instance name: '{}'\".format(notebook_name))\n",
    "'''"
   ]
  },
  {
   "cell_type": "markdown",
   "id": "a4cc0025",
   "metadata": {},
   "source": [
    "####  b. Application logs <a id='Configure%20application%20logs'></a>\n",
    "\n",
    "Application logs refers to the logs generated by running the various code cells in this notebook. To set this up, instantiate the [Python logging service](https://docs.python.org/3/library/logging.html) by running the following cell. You can configure the default log level and format as required.\n",
    "\n",
    "By default, this notebook will only print the logs to the corresponding cell's output console."
   ]
  },
  {
   "cell_type": "code",
   "execution_count": null,
   "id": "ecf96e5b",
   "metadata": {},
   "outputs": [],
   "source": [
    "import logging\n",
    "import os\n",
    "\n",
    "# Set the logging level and format\n",
    "log_level = logging.INFO\n",
    "log_format = '%(asctime)s - %(levelname)s - %(message)s'\n",
    "logging.basicConfig(level=log_level, format=log_format)\n",
    "\n",
    "# Save these in the environment variables for use in the helper scripts\n",
    "os.environ['LOG_LEVEL'] = str(log_level)\n",
    "os.environ['LOG_FORMAT'] = log_format"
   ]
  },
  {
   "cell_type": "markdown",
   "id": "9a3bb063",
   "metadata": {},
   "source": [
    "###  D. Organize imports <a id ='Organize%20imports'> </a>\n",
    "\n",
    "Organize all the library and module imports for later use."
   ]
  },
  {
   "cell_type": "code",
   "execution_count": null,
   "id": "764a06b9-812c-4dad-a652-1cb34aa9d8b7",
   "metadata": {
    "scrolled": true,
    "tags": []
   },
   "outputs": [],
   "source": [
    "import boto3\n",
    "import os\n",
    "import requests\n",
    "import sagemaker\n",
    "import sys\n",
    "from botocore.config import Config\n",
    "\n",
    "# Import the helper functions from the 'scripts' folder\n",
    "sys.path.append(os.path.join(os.getcwd(), \"scripts\"))\n",
    "#logging.info(\"Updated sys.path: {}\".format(sys.path))\n",
    "from helper_functions import *"
   ]
  },
  {
   "cell_type": "markdown",
   "id": "b48ba26b",
   "metadata": {},
   "source": [
    "Print the installed versions of some of the important libraries."
   ]
  },
  {
   "cell_type": "code",
   "execution_count": null,
   "id": "bb23f2d8",
   "metadata": {
    "scrolled": true
   },
   "outputs": [],
   "source": [
    "logging.info(\"Python version : {}\".format(sys.version))\n",
    "logging.info(\"Boto3 version : {}\".format(boto3.__version__))\n",
    "logging.info(\"Requests version : {}\".format(requests.__version__))\n",
    "logging.info(\"SageMaker Python SDK version : {}\".format(sagemaker.__version__))"
   ]
  },
  {
   "cell_type": "markdown",
   "id": "74f63309",
   "metadata": {},
   "source": [
    "###  E. Set AWS Region and boto3 config <a id ='Set%20AWS%20Region%20and%20boto3%20config'> </a>\n",
    "\n",
    "Get the current AWS Region (where this notebook is running) and the SageMaker Session. These will be used to initialize some of the clients to AWS services using the boto3 APIs."
   ]
  },
  {
   "cell_type": "markdown",
   "id": "a746eb15",
   "metadata": {},
   "source": [
    "<div class=\"alert alert-block alert-info\">  \n",
    "<b>Note:</b> All the AWS services used by this notebook except Amazon Bedrock will use the current AWS Region. For Bedrock, follow the guidance in the next cell.\n",
    "</div>"
   ]
  },
  {
   "cell_type": "markdown",
   "id": "8de7be30",
   "metadata": {},
   "source": [
    "<div class=\"alert alert-block alert-warning\">  \n",
    "<b>Note:</b> At the time of writing this notebook, Amazon Bedrock was only available in <a href=\"https://docs.aws.amazon.com/bedrock/latest/userguide/bedrock-regions.html\">these supported AWS Regions</a>. If you are running this notebook from any other AWS Region, then you have to change the Amazon Bedrock Agent client's region and/or endpoint URL parameters to one of those supported AWS Regions that has Anthropic Claude 3.5 Haiku v1, Anthropic Claude 3.5 Sonnet v2 / 3.7 Sonnet v1, and Amazon Titan Text Embeddings v2. In order to do this, this notebook will use the value specified in the environment variable named <mark>AMAZON_BEDROCK_REGION</mark>. If this is not specified, then the notebook will default to <mark>us-west-2 (Oregon)</mark> for Amazon Bedrock. If available, you can use <a href=\"https://docs.aws.amazon.com/bedrock/latest/userguide/cross-region-inference.html\">cross-region inference</a>.\n",
    "</div>\n",
    "\n"
   ]
  },
  {
   "cell_type": "code",
   "execution_count": null,
   "id": "11a6cb45",
   "metadata": {},
   "outputs": [],
   "source": [
    "# Get the AWS Region, SageMaker Session and IAM Role references\n",
    "my_session = boto3.session.Session()\n",
    "logging.info(\"SageMaker Session: {}\".format(my_session))\n",
    "my_iam_role = sagemaker.get_execution_role()\n",
    "logging.info(\"Notebook IAM Role: {}\".format(my_iam_role))\n",
    "my_region = my_session.region_name\n",
    "logging.info(\"Current AWS Region: {}\".format(my_region))\n",
    "\n",
    "# Explicity set the AWS Region for Amazon Bedrock clients\n",
    "AMAZON_BEDROCK_DEFAULT_REGION = \"us-west-2\"\n",
    "br_region = os.environ.get('AMAZON_BEDROCK_REGION')\n",
    "if br_region is None:\n",
    "    br_region = AMAZON_BEDROCK_DEFAULT_REGION\n",
    "elif len(br_region) == 0:\n",
    "    br_region = AMAZON_BEDROCK_DEFAULT_REGION\n",
    "logging.info(\"AWS Region for Amazon Bedrock: {}\".format(br_region))"
   ]
  },
  {
   "cell_type": "markdown",
   "id": "9f8484fc",
   "metadata": {},
   "source": [
    "Set the timeout and retry configurations that will be applied to all the boto3 clients used in this notebook."
   ]
  },
  {
   "cell_type": "code",
   "execution_count": null,
   "id": "037155d8",
   "metadata": {},
   "outputs": [],
   "source": [
    "# Increase the standard time out limits in the boto3 client from 1 minute to 3 minutes\n",
    "# and set the retry limits\n",
    "my_boto3_config = Config(\n",
    "    connect_timeout = (60 * 3),\n",
    "    read_timeout = (60 * 3),\n",
    "    retries = {\n",
    "        'max_attempts': 10,\n",
    "        'mode': 'standard'\n",
    "    }\n",
    ")"
   ]
  },
  {
   "cell_type": "markdown",
   "id": "984f0e97",
   "metadata": {},
   "source": [
    "###  F. Enable model access in Amazon Bedrock <a id ='Enable%20model%20access%20in%20Amazon%20Bedrock'> </a>"
   ]
  },
  {
   "cell_type": "markdown",
   "id": "1e84ba9d",
   "metadata": {},
   "source": [
    "<div class=\"alert alert-block alert-danger\">\n",
    "    <b>Note:</b> Before proceeding further with this notebook, you must enable access to the required models on Amazon Bedrock by following the instructions <a href=\"https://docs.aws.amazon.com/bedrock/latest/userguide/model-access.html\">here</a>. Otherwise, you will get an authorization error.\n",
    "</div>"
   ]
  },
  {
   "cell_type": "markdown",
   "id": "ed57899f",
   "metadata": {},
   "source": [
    "<div class=\"alert alert-block alert-warning\">  \n",
    "<b>Note:</b> You will have to do this manually after reading the End User License Agreement (EULA) for each of the models that you want to enable. Unless you explicitly disable it, this is a one-time setup for each model in an AWS Region in an AWS account.\n",
    "</div>"
   ]
  },
  {
   "cell_type": "markdown",
   "id": "19de160b",
   "metadata": {},
   "source": [
    "Run the following cell to print the Amazon Bedrock model access page URL for the AWS Region that was selected earlier."
   ]
  },
  {
   "cell_type": "code",
   "execution_count": null,
   "id": "78213222",
   "metadata": {},
   "outputs": [],
   "source": [
    "# Print the Amazon Bedrock model access page URL\n",
    "print(\"https://{}.console.aws.amazon.com/bedrock/home?region={}#/modelaccess\".format(br_region, br_region))"
   ]
  },
  {
   "cell_type": "markdown",
   "id": "12579ad7",
   "metadata": {},
   "source": [
    "###  G. Create common objects <a id='Create%20common%20objects'></a>\n",
    "\n",
    "To begin with, create the boto3 clients."
   ]
  },
  {
   "cell_type": "code",
   "execution_count": null,
   "id": "124b256c",
   "metadata": {},
   "outputs": [],
   "source": [
    "# Create the Agents for Amazon Bedrock client\n",
    "bedrock_agt_client = boto3.client(\"bedrock-agent\", region_name = br_region, config = my_boto3_config)\n",
    "\n",
    "# Create the Agents for Amazon Bedrock runtime client\n",
    "bedrock_agt_rt_client = boto3.client(\"bedrock-agent-runtime\", region_name = br_region, config = my_boto3_config)"
   ]
  },
  {
   "cell_type": "markdown",
   "id": "1d2ee077",
   "metadata": {},
   "source": [
    "###  H. Check and configure security permissions <a id ='Check%20and%20configure%20security%20permissions'> </a>\n",
    "This notebook uses the IAM role attached to the underlying notebook instance.  To view the name of this role, run the following cell. This IAM role should have the following permissions,\n",
    "1. Full access to all the Amazon Bedrock Agents used in this notebook.\n",
    "2. Full access to the Amazon Bedrock Knowledge Base used in this notebook.\n",
    "3. Access to write to the Amazon S3 bucket from where it will be ingested into the Knowledge Base (KB).\n",
    "4. Access to write to Amazon CloudWatch Logs.\n",
    "\n",
    "The Amazon Bedrock Knowledge Base associated with the Bedrock Agents used in this notebook, requires the following permissions,\n",
    "1. Access to read and write to the Amazon OpenSearch Serverless Collection's index used by the Knowledge Base (KB).\n",
    "2. Access to read from the Amazon S3 bucket that will contain the files to ingestion into the KB.\n",
    "3. Access to write to Amazon CloudWatch Logs.\n",
    "\n",
    "The Bedrock Agents that this notebook will invoke, require the following permissions,\n",
    "1. Access to the invoke the associated AWS Lambda functions.\n",
    "2. Access to invoke the configured sub-agents.\n",
    "3. Access to invoke Large Language Models (LLMs) on Amazon Bedrock.\n",
    "4. Access to retrieve from the Knowledge Base configured above.\n",
    "5. Access to write to Amazon CloudWatch Logs.\n",
    "\n",
    "The AWS Lambda function associated with each of the above Bedrock Agents requires the following permissions,\n",
    "1. Access to read and write to one of these services based on the agent - AWS Backup or Amazon EC2 or Amazon S3 or Amazon RDS.\n",
    "2. Access to invoke Large Language Models (LLMs) on Amazon Bedrock.\n",
    "3. Access to write to Amazon CloudWatch Logs."
   ]
  },
  {
   "cell_type": "markdown",
   "id": "9688f610",
   "metadata": {},
   "source": [
    "<div class=\"alert alert-block alert-info\">\n",
    "<b>Note:</b>  If you are running this notebook as part of a workshop session, by default, all these permissions will be setup.\n",
    "</div>"
   ]
  },
  {
   "cell_type": "markdown",
   "id": "a16baab7",
   "metadata": {},
   "source": [
    "Run the following cell to print the details of the IAM role attached to the underlying notebook instance."
   ]
  },
  {
   "cell_type": "code",
   "execution_count": null,
   "id": "e2c64186",
   "metadata": {
    "scrolled": true
   },
   "outputs": [],
   "source": [
    "# Print the IAM role ARN and console URL\n",
    "logging.info(\"This notebook's IAM role is '{}'\".format(my_iam_role))\n",
    "arn_parts = my_iam_role.split('/')\n",
    "logging.info(\"Details of this IAM role are available at https://{}.console.aws.amazon.com/iamv2/home?region={}#/roles/details/{}?section=permissions\"\n",
    "             .format(my_region, my_region, arn_parts[len(arn_parts) - 1]))"
   ]
  },
  {
   "cell_type": "markdown",
   "id": "c8b71b2a-6989-4bd6-a8d8-0088bcb90643",
   "metadata": {},
   "source": [
    "###  I. Get Bedrock Agent details <a id='Get%20Bedrock%20Agent%20details'></a>"
   ]
  },
  {
   "cell_type": "markdown",
   "id": "411abca2-a3ef-4d23-966d-619003838820",
   "metadata": {},
   "source": [
    "<center><img src=\"images/agents_architecture.png\"/></center>"
   ]
  },
  {
   "cell_type": "markdown",
   "id": "a4c2baa1-db92-41de-8bee-529e4ba70482",
   "metadata": {},
   "source": [
    "<div class=\"alert alert-block alert-info\">\n",
    "<p><b>Note:</b> For the purpose of running this notebook, all the Bedrock Agents specified in the above diagram along with their agent aliases must be created in the same AWS Region as Amazon Bedrock that was configured in Step 1E of this notebook and must be in 'PREPARED' status.</p>\n",
    "<p>\n",
    "Although not mandatory, it is strongly recommended to use Anthropic Claude 3.5 Haiku v1 / Anthropic Claude 3.5 Sonnet v2 / 3.7 Sonnet v1 as the LLMs for various agents as specified in steps earlier. If you use any other LLM, make sure the model access is enabled by following the instructions mentioned in prior steps.\n",
    "</p>\n",
    "<p>If you are running this notebook as part of a workshop session, by default, all these agents along with their aliases that meet all these requirements will be pre-created and ready to use.</p>\n",
    "</div>"
   ]
  },
  {
   "cell_type": "markdown",
   "id": "efbc4fbe-8ba5-40e2-b274-d74428d5b28a",
   "metadata": {},
   "source": [
    "<div class=\"alert alert-block alert-danger\">\n",
    "    <b>Note:</b> If you are running this notebook outside of a workshop session, then, you must create these Bedrock Agents along with their aliases as specified above. Otherwise, this notebook will fail. You can follow the procedure described <a href=\"https://docs.aws.amazon.com/bedrock/latest/userguide/agents-create.html\">here</a> to create a Bedrock Agent and the procedure described <a href=\"https://docs.aws.amazon.com/bedrock/latest/userguide/agents-alias-manage.html\">here</a> to create an agent alias.\n",
    "</div>"
   ]
  },
  {
   "cell_type": "markdown",
   "id": "12a7bafc-b44c-4c97-81ee-2b8517a81a27",
   "metadata": {},
   "source": [
    "Specify the name of the supervisor agent in the cell below. "
   ]
  },
  {
   "cell_type": "code",
   "execution_count": null,
   "id": "a44ca227-0de9-45a4-a715-15afe03027ba",
   "metadata": {},
   "outputs": [],
   "source": [
    "br_supervisor_agent_name = 'backup-assistant-supervisor'"
   ]
  },
  {
   "cell_type": "markdown",
   "id": "c1584fbb-a0e8-4b42-a8bb-c4d40ebe4ecc",
   "metadata": {},
   "source": [
    "Run the following cell to verify if the specified supervisor agent meets all the requirements mentioned above. If they meet all the requirements, then,\n",
    "* The agent's version and alias id, if specified, will be used. If not, these two values will be retrieved from the supervisor agent's configuration.\n",
    "* All the Knowledge Bases (KBs) associated with the supervisor and all it's collaborator agents will be retrieved.\n",
    "* For every KB that is in ENABLED status, the first custom and S3 data sources that are in AVAILABLE status will be retrieved and used.\n",
    "* All the AWS Lambda functions associated with the supervisor and all it's collaborator agents will be retrieved.\n",
    "\n",
    "All these will be required later in the notebook."
   ]
  },
  {
   "cell_type": "code",
   "execution_count": null,
   "id": "fabd264c-5f0a-4316-b65f-9aa9fecfe365",
   "metadata": {},
   "outputs": [],
   "source": [
    "br_supervisor_agent_id = ''\n",
    "br_supervisor_agent_version = ''\n",
    "br_supervisor_agent_alias_id = ''\n",
    "kb_id = ''\n",
    "kb_custom_ds_id = ''\n",
    "kb_s3_ds_id = ''\n",
    "lambda_function_name = ''\n",
    "\n",
    "# Note: 'does_br_agent_meet_requirements' available through ./scripts/helper_functions.py\n",
    "meets_requirements, br_supervisor_agent_id, br_supervisor_agent_version = does_br_agent_meet_requirements(bedrock_agt_client, br_supervisor_agent_name)\n",
    "if meets_requirements:\n",
    "    # Note: 'get_br_agent_alias_that_meets_requirements' available through ./scripts/helper_functions.py\n",
    "    br_supervisor_agent_alias_id = get_br_agent_alias_that_meets_requirements(bedrock_agt_client, br_supervisor_agent_id, br_supervisor_agent_alias_id)\n",
    "    # Note: 'get_kbs' available through ./scripts/helper_functions.py\n",
    "    kbs = get_kbs(bedrock_agt_client, br_supervisor_agent_id, br_supervisor_agent_version)\n",
    "    # Loop through the KBs\n",
    "    for kb in kbs:\n",
    "        # Get the id of the KB that is enabled\n",
    "        if kb['state'] == 'ENABLED':\n",
    "            kb_id = kb['id']\n",
    "            # Note: 'get_kb_data_sources' available through ./scripts/helper_functions.py\n",
    "            data_sources = get_kb_data_sources(bedrock_agt_client, kb_id)\n",
    "            # Loop through the data sources\n",
    "            for data_source in data_sources:\n",
    "                if data_source['status'] == 'AVAILABLE':\n",
    "                    if data_source['type'] == 'CUSTOM':\n",
    "                        kb_custom_ds_id = data_source['id']\n",
    "                    elif data_source['type'] == 'S3':\n",
    "                        kb_s3_ds_id = data_source['id']\n",
    "    logging.info(\"Knowledge Base id = '{}'; Custom data source id = '{}'; S3 data source id = '{}'\".format(kb_id, kb_custom_ds_id, kb_s3_ds_id))\n",
    "    # Note: 'get_lambda_functions' available through ./scripts/helper_functions.py\n",
    "    lambda_functions = get_lambda_functions(bedrock_agt_client, br_supervisor_agent_id, br_supervisor_agent_version)\n",
    "    # Loop through the lambda_functions\n",
    "    for lambda_function in lambda_functions:\n",
    "        lambda_function_name = lambda_function\n",
    "        logging.info(\"Lambda function name = '{}'\".format(lambda_function_name))\n",
    "else:\n",
    "    logging.error(\"The specified supervisor agent does not meet all requirements.\")"
   ]
  },
  {
   "cell_type": "markdown",
   "id": "362243a5-e93e-4126-8730-9ed63cf7bc20",
   "metadata": {},
   "source": [
    "## 2. Ingest into Knowledge Base <a id='Ingest%20into%20Knowledge%20Base'></a>\n",
    "\n",
    "Run the following cells to ingest custom content about backup best practices, recommendations, and architecture. This content can either HTTP/S URLs or in the form of files stored in an Amazon S3 bucket. This content will provide the [Retrieval Augmented Generation (RAG)](https://aws.amazon.com/what-is/retrieval-augmented-generation/) data that will stored in the Knowledge Base (KB) and used in the prompts sent to the LLMs by the agents.\n",
    "\n",
    "**Note:** If this custom content was publicly available at the time when the model was trained, it is most likely that the model was already trained with this content."
   ]
  },
  {
   "cell_type": "markdown",
   "id": "15473c5c-84e3-4f4f-b567-13d1a3517d00",
   "metadata": {},
   "source": [
    "####  a. Ingest from HTTP/S data source <a id='Ingest%20from%20HTTP/S%20data%20source'></a>\n",
    "\n",
    "Running the following cell will ingest data from HTTP/S URLs."
   ]
  },
  {
   "cell_type": "code",
   "execution_count": null,
   "id": "72177e9e-7233-4c65-8574-7c891977febd",
   "metadata": {},
   "outputs": [],
   "source": [
    "# Specify the contents to ingest from\n",
    "content_http_urls = []\n",
    "#content_http_urls.append('https://aws.amazon.com/blogs/security/top-10-security-best-practices-for-securing-backups-in-aws/')\n",
    "content_http_urls.append('https://docs.aws.amazon.com/organizations/latest/userguide/orgs_manage_policies_backup_best-practices.html')\n",
    "\n",
    "# Loop through the list of contents\n",
    "for content_http_url in content_http_urls:\n",
    "    # Note: 'ingest_into_kb' available through ./scripts/helper_functions.py\n",
    "    ingestion_status, ingestion_status_reason = ingest_into_kb(bedrock_agt_client, kb_id, kb_custom_ds_id, content_http_url)\n",
    "    logging.info(\"Content URL :: {}; Ingestion Status :: {}, Ingestion Status Reason :: {}\".format(content_http_url,\n",
    "                                                                                                   ingestion_status,\n",
    "                                                                                                   ingestion_status_reason))"
   ]
  },
  {
   "cell_type": "markdown",
   "id": "598fc045-83cc-43e5-9225-6a0b7ede8ac7",
   "metadata": {},
   "source": [
    "####  b. Ingest from S3 data source <a id='Ingest%20from%20S3%20data%20source'></a>\n",
    "\n",
    "Running the following cell will ingest data from an Amazon S3 bucket by executing the following steps:\n",
    "1. Retrieve the S3 bucket details from the S3 data source associated with the KB.\n",
    "2. (Optional) Download the files from HTTP/S URLs to the specified local directory.\n",
    "3. Upload the files from the specified local directory to this S3 bucket.\n",
    "4. Trigger the [sync operation](https://docs.aws.amazon.com/bedrock/latest/userguide/knowledge-base-ingest.html) on that Knowledge Base to load the file(s) from that data source (S3) to the vector index configured for that Knowledge Base (KB). In the process of loading, the data will be chunked using a fixed-size chunking strategy, and converted to vectors using the Embeddings Model specified for that KB. Check the status of the ingestion every 5 seconds until failed or complete."
   ]
  },
  {
   "cell_type": "code",
   "execution_count": null,
   "id": "40a92ce5-087d-4737-96a5-9c5882309e7e",
   "metadata": {},
   "outputs": [],
   "source": [
    "# Retrieve the S3 bucket ARN and name from the S3 data source of the KB\n",
    "s3_bucket_arn, s3_bucket_name = get_bucket_from_kb_s3_data_source(bedrock_agt_client, kb_id, kb_s3_ds_id)\n",
    "\n",
    "# Specify the S3 bucket prefix\n",
    "s3_key_prefix = \"rag_data\"\n",
    "\n",
    "# Specify the data directory and create it\n",
    "rag_data_dir = os.path.join(os.getcwd(), \"rag_data\")\n",
    "os.makedirs(rag_data_dir, exist_ok = True)"
   ]
  },
  {
   "cell_type": "markdown",
   "id": "9ffef22b-2d04-444e-8b93-30cd7936ee79",
   "metadata": {},
   "source": [
    "<div class=\"alert alert-block alert-info\">\n",
    "    <b>Note:</b> With this option to ingest from a S3 data source, the files are expected to be in the specified local directory. You can upload the files to this directory yourself or download them from HTTP/S URLs, although for this, you are better off going with the first option.\n",
    "</div>\n"
   ]
  },
  {
   "cell_type": "markdown",
   "id": "1e9f014f-50d6-4181-bea8-9c1c877695c6",
   "metadata": {},
   "source": [
    "(Optional) Run the following cell to download files from HTTP/S URLs to the specified local directory."
   ]
  },
  {
   "cell_type": "code",
   "execution_count": null,
   "id": "1d70b24b-2ba8-47b0-9d0d-c6c23c4d4a3e",
   "metadata": {},
   "outputs": [],
   "source": [
    "# Specify the contents to download from\n",
    "content_http_urls = []\n",
    "content_http_urls.append('https://docs.aws.amazon.com/pdfs/prescriptive-guidance/latest/backup-recovery/backup-recovery.pdf')\n",
    "content_http_urls.append('https://esentire-dot-com-assets.s3.amazonaws.com/assets/resourcefiles/Checklist_DORA-Compliance-Checklist_Sep2024.pdf')\n",
    "\n",
    "# Loop through the list of contents\n",
    "for content_http_url in content_http_urls:\n",
    "    # Note: 'download_file' available through ./scripts/helper_functions.py\n",
    "    download_file(content_http_url, rag_data_dir)"
   ]
  },
  {
   "cell_type": "markdown",
   "id": "c97b266b-2267-4c3b-94cd-621a855b6307",
   "metadata": {},
   "source": [
    "Run the following cell to upload the file(s) to S3 and start the ingestion to the KB."
   ]
  },
  {
   "cell_type": "code",
   "execution_count": null,
   "id": "6552f226-62c2-4a83-8eb0-e098e0ebb092",
   "metadata": {},
   "outputs": [],
   "source": [
    "# Note: 'upload_to_s3' available through ./scripts/helper_functions.py\n",
    "upload_to_s3(rag_data_dir, s3_bucket_name, s3_key_prefix)\n",
    "\n",
    "# Note: 'sync_to_kb' available through ./scripts/helper_functions.py\n",
    "sync_to_kb(bedrock_agt_client, kb_s3_ds_id, kb_id, 'Sync PDF from S3 to vector index')"
   ]
  },
  {
   "cell_type": "markdown",
   "id": "0d0ef817",
   "metadata": {},
   "source": [
    "## 3. Perform backup actions <a id='Perform%20backup%20actions'></a>\n",
    "\n",
    "Perform the various AWS Backup actions by invoking the `supervisor agent` configured in prior steps. You can work with this agent through the following mechanisms,\n",
    "\n",
    "1. **Chat:**\n",
    "These are back-and-forth conversations. In this scenario, the agent will remember all prior interactions in that session. This will provide the full context for the agent to answer your questions, ask follow-up questions or perform the required operations. A session will end,\n",
    "   - When it is idle for some time, typically 10 minutes. This is configurable.\n",
    "   - When you explicitly end the current session.\n",
    "2. **Single-prompt:**\n",
    "These are single query conversations. In the scenario, the agent will only remember this one query. Every invocation of the agent will be a new session. With this type of interaction, you have to provide all the details to accomplish a task within a single prompt. Otherwise, the agent will re-prompt and that will not be useful because the session will end after every interaction. For example, in single-prompt interactions, note the following,\n",
    "\n",
    "    - Explicitly specify the AWS Region where you want the backup operations to run.\n",
    "    - Don't specify any delete operations as they will require an additional confirmation.\n",
    "    - Will be useful to add \"Assume other values as required.\" at the end of the prompt.\n",
    "\n",
    "**Note:** For examples of queries, refer to the code cell two sections below."
   ]
  },
  {
   "cell_type": "markdown",
   "id": "e7f7b632-67c6-4baf-b431-c6897c4f7e76",
   "metadata": {},
   "source": [
    "###  A. (Option 1): For chat and single-prompt <a id='For%20chat%20and%20single-prompt'></a>\n",
    "\n",
    "For working with the supervisor agent using either chat or single-prompt interactions, starting new sessions, and a rich UI experience, go to the link printed by running the cell below. This will take you to the supervisor agent's test widget, displayed on the right hand side of the window."
   ]
  },
  {
   "cell_type": "code",
   "execution_count": null,
   "id": "cd641cca-92d0-4b4a-bc7a-78f4a2ef191a",
   "metadata": {},
   "outputs": [],
   "source": [
    "print(\"https://{}.console.aws.amazon.com/bedrock/home?region={}#/agents/{}/alias/{}\".format(br_region, br_region, br_supervisor_agent_id, br_supervisor_agent_alias_id))"
   ]
  },
  {
   "cell_type": "markdown",
   "id": "82775963-0d43-476c-b1b9-f381271fb484",
   "metadata": {},
   "source": [
    "###  B. (Option 2): For single-prompt only <a id='For%20single-prompt%20only'></a>\n",
    "\n",
    "For working with the supervisor agent using single-prompt interactions, specify the required query in the `query` variable in the below cell and run it."
   ]
  },
  {
   "cell_type": "code",
   "execution_count": null,
   "id": "7400f5c1",
   "metadata": {},
   "outputs": [],
   "source": [
    "# Configure the query\n",
    "\n",
    "#### Examples of Knowledge Agent queries\n",
    "#query = 'Why should I use AWS as a data-protection platform?'\n",
    "#query = 'How does the AWS Backup service work?'\n",
    "#query = 'What are the top 2 best practices for securing backups in AWS?'\n",
    "#query = 'Tell me about Article 11 in the DORA Compliance Checklist.'\n",
    "\n",
    "#### Examples of planner queries\n",
    "\n",
    "## AWS Backup queries\n",
    "#query = 'How am I doing with my backups in us-west-2?'\n",
    "#query = 'List all backup vaults in us-west-2.'\n",
    "#query = 'List all backup plans in us-west-2.'\n",
    "#query = 'In us-west-2, list all backup selections associated with backup plan named \"TEST\".'\n",
    "#query = 'In us-east-1, list all resources protected by AWS Backup.'\n",
    "#query = 'In us-east-1, list all protected resources in backup vault named \"TEST\".'\n",
    "#query = 'In us-east-1, is there a backup vault named \"TEST\"?'\n",
    "#query = 'In us-east-1, is there a backup plan with tag \"Name\" and value \"Value\"?'\n",
    "#query = 'In us-east-1, is there a backup plan with tag \"Key\" and value \"Value\"?'\n",
    "#query = 'Get the legal hold with ARN \"ARN\".'\n",
    "\n",
    "## Amazon EC2 queries\n",
    "#query = 'In us-east-1, list all snapshots for volume with id \"value\".'\n",
    "#query = 'In us-east-1, list all snapshots for volume with name \"name\".'\n",
    "#query = 'In us-east-1, get the snapshots associated with the instances with tag named \"os:Type\" and values \"Windows\" and \"AmazonLinux2023\".'\n",
    "#query = 'In us-east-1, print the snapshot information for all instances.'\n",
    "#query = 'In us-east-1, let me know which instance does not have a snapshot.'\n",
    "#query = 'In us-east-1, how are my EC2 backups looking?'\n",
    "\n",
    "## Amazon S3 queries\n",
    "#query = 'In us-east-1, list all buckets.'\n",
    "#query = 'List all buckets in all regions.'\n",
    "#query = 'In us-west-2, get me the replication config on bucket named \"Specify NAME\".'\n",
    "#query = 'In us-east-1, get me the lifecycle config on bucket named \"Specify NAME\".'\n",
    "#query = 'In us-east-1, get me the versioning info on bucket named \"Specify NAME\".'\n",
    "\n",
    "## Amazon RDS queries\n",
    "#query = 'In us-east-1, list all RDS db instances.'\n",
    "#query = 'In us-east-1, list all RDS db cluster automated backups.'\n",
    "#query = 'In us-east-1, list all RDS db instance automated backups.'\n",
    "query = 'In us-east-1, list all RDS db clusters.'\n",
    "\n",
    "#### Examples of executor queries\n",
    "\n",
    "## AWS Backup queries\n",
    "#query = 'In the us-west-2 Region, create a plan to backup all the EC2 instances every 6 hours. Assume other values as required.'\n",
    "#query = 'In us-west-2, backup all the EC2 instances with tag named \"NAME\" and value \"TEST\" every 4 hours. Assume other values as required.'\n",
    "#query = 'Cancel legal hold with id \"ID\".'\n",
    "#query = 'In us-east-1, delete backup vault named \"NAME\"'.\n",
    "#query = 'In us-east-1, create a legal hold with title \"TITLE\" and description \"DESC\".'\n",
    "\n",
    "## Amazon EC2 queries\n",
    "#query = 'In us-east-1, delete snapshot with id \"value\".'\n",
    "#query = 'In us-east-1, create snapshot for volume with id \"ID\".'\n",
    "\n",
    "## Amazon S3 queries\n",
    "#query = ''\n",
    "\n",
    "## Amazon RDS queries\n",
    "#query = 'In us-east-1, stop the RDS db cluster automated backup for cluster with resource id \"value\".'\n",
    "#query = 'In us-east-1, stop the RDS db instance automated backup for instance with id \"value\".'\n",
    "#query = 'In us-east-1, start the RDS db instance automated backups replication on the db instance with ARN \"ARN\".'\n",
    "#query = 'In us-east-1, stop the RDS db instance automated backups replication on the db instance with ARN \"ARN\".'\n",
    "\n",
    "# Invoke the supervisor Bedrock Agent\n",
    "invoke_agent_response, invoke_agent_trace = invoke_agent(br_supervisor_agent_alias_id, br_supervisor_agent_id, bedrock_agt_rt_client, query)\n",
    "\n",
    "# Print the response from the supervisor agent\n",
    "logging.info(invoke_agent_response)"
   ]
  },
  {
   "cell_type": "markdown",
   "id": "a3802ac1-0bd4-4c48-918d-a729d734cc13",
   "metadata": {},
   "source": [
    "Run the following cell to print the trace of the actions that the sueprvisor agent took to process your query. This will also print the traces of the sub-agents and Knowledge Base interactions, if any."
   ]
  },
  {
   "cell_type": "code",
   "execution_count": null,
   "id": "1ac0c456-ede4-4b75-8ed0-1c008491249d",
   "metadata": {},
   "outputs": [],
   "source": [
    "# Print the trace from the supervisor agent\n",
    "logging.info(invoke_agent_trace)"
   ]
  },
  {
   "cell_type": "markdown",
   "id": "b3a1216a",
   "metadata": {},
   "source": [
    "## 4. Cleanup <a id='Cleanup'></a>\n",
    "\n",
    "As a best practice, you should delete AWS resources that are no longer required.  This will help you avoid incurring unncessary costs."
   ]
  },
  {
   "cell_type": "markdown",
   "id": "c018f3f7",
   "metadata": {},
   "source": [
    "<div class=\"alert alert-block alert-info\">\n",
    "<b>Note:</b> If you are running this notebook as part of a workshop session, by default, all resources will be cleaned up at the end of the session.\n",
    "</div>"
   ]
  },
  {
   "cell_type": "markdown",
   "id": "b4bd52a5",
   "metadata": {},
   "source": [
    "## 5. Conclusion <a id='Conclusion'></a>\n",
    "\n",
    "We have now seen how to use Amazon Bedrock Agents to strategize, plan, and execute your data backup objectives on AWS through natural language interactions."
   ]
  },
  {
   "cell_type": "markdown",
   "id": "8bf266cf",
   "metadata": {
    "scrolled": true
   },
   "source": [
    "## 6. Frequently Asked Questions (FAQs) <a id='FAQs'></a>"
   ]
  },
  {
   "cell_type": "markdown",
   "id": "0bf2c50f",
   "metadata": {},
   "source": [
    "**Q: What AWS services are used in this notebook?**\n",
    "\n",
    "Amazon Bedrock (Agents, LLMs, and Knowledge Bases), Amazon OpenSearch Serverless, AWS Lambda, AWS Backup, Amazon EC2, Amazon S3, Amazon RDS, AWS Identity and Access Management (IAM), Amazon CloudWatch, and Amazon SageMaker Notebook instance (or) Amazon SageMaker Studio Notebook depending on what you use to run the notebook.\n",
    "\n",
    "**Q: Where can I access the FAQs for Amazon Bedrock?**\n",
    "\n",
    "Go [here](https://aws.amazon.com/bedrock/faqs/).\n",
    "\n",
    "**Q: What models are supported by Amazon Bedrock?**\n",
    "\n",
    "Go [here](https://docs.aws.amazon.com/bedrock/latest/userguide/models-supported.html).\n",
    "\n",
    "**Q: Where can I find customer references for Amazon Bedrock?**\n",
    "\n",
    "Go [here](https://aws.amazon.com/bedrock/testimonials/).\n",
    "\n",
    "**Q: Where can I find pricing information for the AWS services used in this notebook?**\n",
    "\n",
    "- Amazon Bedrock pricing - go [here](https://aws.amazon.com/bedrock/pricing/).\n",
    "- Amazon OpenSearch Serverless pricing - go [here](https://aws.amazon.com/opensearch-service/pricing/).\n",
    "- AWS Lambda pricing - go [here](https://aws.amazon.com/lambda/pricing/).\n",
    "- AWS Backup pricing - go [here](https://aws.amazon.com/backup/pricing/).\n",
    "- Amazon EC2 pricing - go [here](https://aws.amazon.com/ec2/pricing/).\n",
    "- Amazon S3 pricing - go [here](https://aws.amazon.com/s3/pricing/).\n",
    "- Amazon RDS pricing - go [here](https://aws.amazon.com/rds/pricing/).\n",
    "- AWS Identity and Access Management (IAM) pricing - free.\n",
    "- Amazon CloudWatch pricing - go [here](https://aws.amazon.com/cloudwatch/pricing/).\n",
    "- Amazon SageMaker Notebook instance (or) Amazon SageMaker Studio Notebook pricing - go [here](https://aws.amazon.com/sagemaker/pricing/)."
   ]
  },
  {
   "cell_type": "code",
   "execution_count": null,
   "id": "13768570-9a7e-496b-8704-49bab1fe1263",
   "metadata": {},
   "outputs": [],
   "source": []
  }
 ],
 "metadata": {
  "kernelspec": {
   "display_name": "conda_python3",
   "language": "python",
   "name": "conda_python3"
  },
  "language_info": {
   "codemirror_mode": {
    "name": "ipython",
    "version": 3
   },
   "file_extension": ".py",
   "mimetype": "text/x-python",
   "name": "python",
   "nbconvert_exporter": "python",
   "pygments_lexer": "ipython3",
   "version": "3.10.18"
  }
 },
 "nbformat": 4,
 "nbformat_minor": 5
}
